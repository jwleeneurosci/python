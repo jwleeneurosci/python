{
 "cells": [
  {
   "cell_type": "markdown",
   "metadata": {},
   "source": [
    "# How to copy a variable in python\n",
    "\n",
    "Being a heavy user of Matlab, I didn't struggle so much for most of python commands at first. \n",
    "They were sharing the similar grammer and all I had to do was translating the code written in Matlab into the python language. However, I met a serious problem (this is not a hard one to debug, but I bet most of python newbies would encounter this problem anytime soon). \n",
    "\n"
   ]
  },
  {
   "cell_type": "code",
   "execution_count": 3,
   "metadata": {},
   "outputs": [
    {
     "name": "stdout",
     "output_type": "stream",
     "text": [
      "[[0.28339781 0.77733302 0.8279953  0.31488944 0.46158291 0.48909504\n",
      "  0.76566248 0.04978844]]\n",
      "[100, 50, 70, 100, 60, 50, 20, 80]\n",
      "[[100.28339781  50.77733302  70.8279953  100.31488944  60.46158291\n",
      "   50.48909504  20.76566248  80.04978844]]\n"
     ]
    }
   ],
   "source": [
    "import numpy as np\n",
    "\n",
    "\n",
    "# Define a varible\n",
    "x = [100, 50, 70, 100, 60, 50, 20, 80]\n",
    "\n",
    "# Make a copy of x and make change in x1\n",
    "x1 = x\n",
    "x1 = x1 + np.random.rand(1,8)\n",
    "\n",
    "\n",
    "# Compare the difference between x1 and x\n",
    "print(x1-x)\n",
    "print(x)\n",
    "print(x1)\n"
   ]
  },
  {
   "cell_type": "markdown",
   "metadata": {},
   "source": [
    "Note that there's absolutely no problem with the code. \n",
    "\n",
    "Problem occured when I tried to make a copy of a variable and make change on that copied variable:"
   ]
  },
  {
   "cell_type": "code",
   "execution_count": 4,
   "metadata": {},
   "outputs": [
    {
     "name": "stdout",
     "output_type": "stream",
     "text": [
      "[0 0 0 0 0 0 0 0]\n",
      "[ 50  50  70 100  60  50  20  80]\n",
      "[ 50  50  70 100  60  50  20  80]\n"
     ]
    }
   ],
   "source": [
    "# Define a varible\n",
    "x = np.array([100, 50, 70, 100, 60, 50, 20, 80])\n",
    "\n",
    "# Make a copy of x and make change in x1\n",
    "x1 = x\n",
    "x1[0] = 50\n",
    "\n",
    "\n",
    "# Compare the difference between x1 and x\n",
    "print(x1-x)\n",
    "print(x)\n",
    "print(x1)"
   ]
  },
  {
   "cell_type": "code",
   "execution_count": 5,
   "metadata": {},
   "outputs": [
    {
     "data": {
      "text/html": [
       "<style>.container { width:100% !important; }</style>"
      ],
      "text/plain": [
       "<IPython.core.display.HTML object>"
      ]
     },
     "metadata": {},
     "output_type": "display_data"
    }
   ],
   "source": [
    "from IPython.core.display import display, HTML\n",
    "display(HTML(\"<style>.container { width:100% !important; }</style>\"))"
   ]
  }
 ],
 "metadata": {
  "kernelspec": {
   "display_name": "Python 3",
   "language": "python",
   "name": "python3"
  },
  "language_info": {
   "codemirror_mode": {
    "name": "ipython",
    "version": 3
   },
   "file_extension": ".py",
   "mimetype": "text/x-python",
   "name": "python",
   "nbconvert_exporter": "python",
   "pygments_lexer": "ipython3",
   "version": "3.7.4"
  }
 },
 "nbformat": 4,
 "nbformat_minor": 4
}
